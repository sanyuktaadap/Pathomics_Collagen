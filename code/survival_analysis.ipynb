{
 "cells": [
  {
   "cell_type": "code",
   "execution_count": null,
   "id": "a5c4856a",
   "metadata": {},
   "outputs": [],
   "source": [
    "### Start of NOTEBOOK ###"
   ]
  },
  {
   "cell_type": "code",
   "execution_count": null,
   "id": "3c6e14b1",
   "metadata": {},
   "outputs": [],
   "source": [
    "# header files\n",
    "import os\n",
    "import glob\n",
    "import csv\n",
    "import numpy as np\n",
    "import pandas as pd\n",
    "from sksurv.linear_model import CoxnetSurvivalAnalysis\n",
    "from sksurv.metrics import (\n",
    "    concordance_index_censored,\n",
    "    concordance_index_ipcw,\n",
    "    cumulative_dynamic_auc,\n",
    "    integrated_brier_score,\n",
    ")\n",
    "from sklearn.preprocessing import StandardScaler, MinMaxScaler\n",
    "import matplotlib.pyplot as plt\n",
    "print(\"Header files loaded!\")"
   ]
  },
  {
   "cell_type": "code",
   "execution_count": null,
   "id": "95f93ccb",
   "metadata": {},
   "outputs": [],
   "source": [
    "tcga_oc_files = glob.glob(\"survival_analysis_results/ovary/tcga/*\")\n",
    "upmc_oc_files = glob.glob(\"survival_analysis_results/ovary/upmc/*\")\n",
    "print(len(tcga_oc_files))\n",
    "print(len(upmc_oc_files))"
   ]
  },
  {
   "cell_type": "code",
   "execution_count": null,
   "id": "aa0e10fb",
   "metadata": {},
   "outputs": [],
   "source": [
    "# train  - clinical data (output) and features (input)\n",
    "flag = -1\n",
    "train_os_event = []\n",
    "train_os_days = []\n",
    "train_age = []\n",
    "train_debulking = []\n",
    "train_brca = []\n",
    "train_cr = []\n",
    "train_pr = []\n",
    "train_pd = []\n",
    "with open(\"survival_analysis_results/ovary/tcga_upmc_clinical.csv\", newline='', encoding = \"ISO-8859-1\") as csvfile:\n",
    "    spamreader = csv.reader(csvfile)\n",
    "    for row in spamreader:\n",
    "        if flag == -1:\n",
    "            flag = 1\n",
    "        else:\n",
    "            array = row\n",
    "            if array[1] == \"TCGA\":\n",
    "                train_os_days.append(float(row[4]))\n",
    "                train_age.append(float(row[7]))\n",
    "                train_debulking.append(int(row[8]))\n",
    "                train_brca.append(int(row[9]))\n",
    "                train_cr.append(int(row[10]))\n",
    "                train_pr.append(int(row[11]))\n",
    "                train_pd.append(int(row[12]))\n",
    "                if row[3] == \"True\":\n",
    "                    train_os_event.append(True)\n",
    "                else:\n",
    "                    train_os_event.append(False)\n",
    "\n",
    "tcga_features = []\n",
    "for file in tcga_oc_files:\n",
    "    filename = file.split(\"/\")[-1]\n",
    "    flag = -1\n",
    "    file_features = []\n",
    "    with open(\"survival_analysis_results/ovary/tcga/\"+filename, newline='') as csvfile:\n",
    "        spamreader = csv.reader(csvfile)\n",
    "        for row in spamreader:\n",
    "            if flag == -1:\n",
    "                array = row\n",
    "                for index in range(0, len(row)):\n",
    "                    val = float(row[index])\n",
    "                    file_features.append(val)                \n",
    "    tcga_features.append(file_features)\n",
    "print(len(tcga_features))\n",
    "print(len(train_os_event))\n",
    "print(len(train_os_days))"
   ]
  },
  {
   "cell_type": "code",
   "execution_count": null,
   "id": "73eaba8d",
   "metadata": {},
   "outputs": [],
   "source": [
    "# test - clinical data from UPMC (output) and features (input)\n",
    "flag = -1\n",
    "test_os_event_1 = []\n",
    "test_os_days_1 = []\n",
    "test_age_1 = []\n",
    "test_debulking_1 = []\n",
    "test_brca_1 = []\n",
    "test_cr_1 = []\n",
    "test_pr_1 = []\n",
    "test_pd_1 = []\n",
    "with open(\"survival_analysis_results/ovary/tcga_upmc_clinical.csv\", newline='', encoding = \"ISO-8859-1\") as csvfile:\n",
    "    spamreader = csv.reader(csvfile)\n",
    "    for row in spamreader:\n",
    "        if flag == -1:\n",
    "            flag = 1\n",
    "        else:\n",
    "            array = row\n",
    "            if array[1] == \"UPMC\":\n",
    "                test_os_days_1.append(float(row[4]))\n",
    "                test_age_1.append(float(row[7]))\n",
    "                test_debulking_1.append(int(row[8]))\n",
    "                test_brca_1.append(int(row[9]))\n",
    "                test_cr_1.append(int(row[10]))\n",
    "                test_pr_1.append(int(row[11]))\n",
    "                test_pd_1.append(int(row[12]))\n",
    "                if row[3] == \"True\":\n",
    "                    test_os_event_1.append(True)\n",
    "                else:\n",
    "                    test_os_event_1.append(False)\n",
    "\n",
    "upmc_features = []\n",
    "for file in upmc_oc_files:\n",
    "    filename = file.split(\"/\")[-1]\n",
    "    flag = -1\n",
    "    file_features = []\n",
    "    with open(\"survival_analysis_results/ovary/upmc/\"+filename, newline='') as csvfile:\n",
    "        spamreader = csv.reader(csvfile)\n",
    "        for row in spamreader:\n",
    "            if flag == -1:\n",
    "                for index in range(0, len(row)):\n",
    "                    val = float(row[index])\n",
    "                    file_features.append(val)\n",
    "    upmc_features.append(file_features)\n",
    "print(len(upmc_features))\n",
    "print(len(test_os_event_1))\n",
    "print(len(test_os_days_1))"
   ]
  },
  {
   "cell_type": "code",
   "execution_count": null,
   "id": "78c442d4",
   "metadata": {},
   "outputs": [],
   "source": [
    "# model building (train on TCGA and test on either UPMC/UCLA)\n",
    "train_features = np.array(tcga_features)\n",
    "test_features = np.array(upmc_features)\n",
    "train_censor = np.array(train_os_event)\n",
    "train_days = np.array(train_os_days)\n",
    "test_censor = np.array(test_os_event_1)\n",
    "test_days = np.array(test_os_days_1)\n",
    "\n",
    "train_y = []\n",
    "for index in range(0, len(train_censor)):\n",
    "    train_y.append([train_censor[index], train_days[index]])\n",
    "print(len(train_y))\n",
    "test_y = []\n",
    "for index in range(0, len(test_censor)):\n",
    "    test_y.append([test_censor[index], test_days[index]])\n",
    "print(len(test_y))"
   ]
  },
  {
   "cell_type": "code",
   "execution_count": null,
   "id": "a9ea84c1",
   "metadata": {},
   "outputs": [],
   "source": [
    "# train and validate\n",
    "test_group = []\n",
    "train_group = []\n",
    "features_train = train_features\n",
    "features_test = test_features\n",
    "y_train = train_y\n",
    "dt = dtype=[('Status', '?'), ('Survival_in_days', '<f8')]\n",
    "y_train = np.array([tuple(row) for row in y_train], dtype=dt)\n",
    "scaler = MinMaxScaler()\n",
    "features_train = scaler.fit_transform(features_train)\n",
    "features_test = scaler.transform(features_test)\n",
    "features_train_df = pd.DataFrame(features_train)\n",
    "features_test_df = pd.DataFrame(features_test)\n",
    "estimator = CoxnetSurvivalAnalysis()\n",
    "estimator.fit(features_train_df, y_train)\n",
    "score, _, _, _, _ = concordance_index_censored(test_censor, test_days, estimator.predict(features_test_df))\n",
    "score, _, _, _, _ = concordance_index_censored(train_censor, train_days, estimator.predict(features_train_df))\n",
    "train_risk_scores = estimator.predict(features_train_df)\n",
    "test_risk_scores = estimator.predict(features_test_df)"
   ]
  },
  {
   "cell_type": "code",
   "execution_count": null,
   "id": "a42fbbf3",
   "metadata": {},
   "outputs": [],
   "source": [
    "# get risk groups - Median threshold common choice\n",
    "median = np.median(train_risk_scores)\n",
    "count_low = 0\n",
    "count_high = 0\n",
    "for index in range(0, len(train_risk_scores)):\n",
    "    if train_risk_scores[index] > median:\n",
    "        count_high += 1\n",
    "        train_group.append(1)\n",
    "    else:\n",
    "        count_low += 1\n",
    "        train_group.append(0)\n",
    "count_low = 0\n",
    "count_high = 0\n",
    "for index in range(0, len(test_risk_scores)):\n",
    "    if test_risk_scores[index] > median:\n",
    "        count_high += 1\n",
    "        test_group.append(1)\n",
    "    else:\n",
    "        count_low += 1\n",
    "        test_group.append(0)\n",
    "print(median)"
   ]
  },
  {
   "cell_type": "code",
   "execution_count": null,
   "id": "420ab60f",
   "metadata": {},
   "outputs": [],
   "source": []
  },
  {
   "cell_type": "code",
   "execution_count": null,
   "id": "4f6056b3",
   "metadata": {},
   "outputs": [],
   "source": [
    "print(*train_days, sep=\"; \")"
   ]
  },
  {
   "cell_type": "code",
   "execution_count": null,
   "id": "04edb775",
   "metadata": {},
   "outputs": [],
   "source": [
    "a = []\n",
    "for index in range(0, len(train_censor)):\n",
    "    if train_censor[index] == False:\n",
    "        a.append(0)\n",
    "    else:\n",
    "        a.append(1)\n",
    "print(*a, sep=\"; \")"
   ]
  },
  {
   "cell_type": "code",
   "execution_count": null,
   "id": "ec176a43",
   "metadata": {},
   "outputs": [],
   "source": [
    "print(*train_risk_scores, sep='; ')"
   ]
  },
  {
   "cell_type": "code",
   "execution_count": null,
   "id": "812912ca",
   "metadata": {},
   "outputs": [],
   "source": [
    "print(*train_group, sep=\"; \")"
   ]
  },
  {
   "cell_type": "code",
   "execution_count": null,
   "id": "5c0c4bf4",
   "metadata": {},
   "outputs": [],
   "source": [
    "print(len(test_days))\n",
    "print(*test_days, sep=\"; \")"
   ]
  },
  {
   "cell_type": "code",
   "execution_count": null,
   "id": "9f8fc36d",
   "metadata": {},
   "outputs": [],
   "source": [
    "a = []\n",
    "for index in range(0, len(test_censor)):\n",
    "    if test_censor[index] == False:\n",
    "        a.append(0)\n",
    "    else:\n",
    "        a.append(1)\n",
    "print(len(a))\n",
    "print(*a, sep=\"; \")"
   ]
  },
  {
   "cell_type": "code",
   "execution_count": null,
   "id": "61769c7f",
   "metadata": {},
   "outputs": [],
   "source": [
    "print(*test_risk_scores, sep='; ')"
   ]
  },
  {
   "cell_type": "code",
   "execution_count": null,
   "id": "eb349730",
   "metadata": {},
   "outputs": [],
   "source": [
    "print(len(test_group))\n",
    "print(*test_group, sep=\"; \")"
   ]
  },
  {
   "cell_type": "code",
   "execution_count": null,
   "id": "598637b4",
   "metadata": {},
   "outputs": [],
   "source": [
    "### END of NOTEBOOK ###"
   ]
  },
  {
   "cell_type": "code",
   "execution_count": null,
   "id": "ef4ec564",
   "metadata": {},
   "outputs": [],
   "source": []
  },
  {
   "cell_type": "code",
   "execution_count": null,
   "id": "783ad61e",
   "metadata": {},
   "outputs": [],
   "source": []
  },
  {
   "cell_type": "code",
   "execution_count": null,
   "id": "91c0507a",
   "metadata": {},
   "outputs": [],
   "source": []
  },
  {
   "cell_type": "code",
   "execution_count": null,
   "id": "11fc4d76",
   "metadata": {},
   "outputs": [],
   "source": [
    "# Additonal work: find prognostic features from model trained above\n",
    "count = 0\n",
    "i = []\n",
    "for index1 in range(0, len(estimator.coef_)):\n",
    "    flag = -1\n",
    "    for index2 in range(0, 100):\n",
    "        if estimator.coef_[index1][index2] > 0 or estimator.coef_[index1][index2] < 0:\n",
    "            flag = 1\n",
    "            print(str(index1) + \" \" + str(estimator.coef_[index1][index2]))\n",
    "            if estimator.coef_[index1][index2] > 0.001 or estimator.coef_[index1][index2] < -0.001:\n",
    "                i.append(index1)\n",
    "            break\n",
    "    if flag == 1:\n",
    "        count += 1\n",
    "print()\n",
    "print(i)\n",
    "print(\"Prognostic features count = \" + str(count))"
   ]
  },
  {
   "cell_type": "code",
   "execution_count": null,
   "id": "645ebec4",
   "metadata": {},
   "outputs": [],
   "source": []
  }
 ],
 "metadata": {
  "kernelspec": {
   "display_name": "Python 3",
   "language": "python",
   "name": "python3"
  },
  "language_info": {
   "codemirror_mode": {
    "name": "ipython",
    "version": 3
   },
   "file_extension": ".py",
   "mimetype": "text/x-python",
   "name": "python",
   "nbconvert_exporter": "python",
   "pygments_lexer": "ipython3",
   "version": "3.8.8"
  }
 },
 "nbformat": 4,
 "nbformat_minor": 5
}
